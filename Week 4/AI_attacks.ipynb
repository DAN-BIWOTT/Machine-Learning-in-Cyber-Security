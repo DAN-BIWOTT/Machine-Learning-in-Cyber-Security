{
  "cells": [
    {
      "cell_type": "markdown",
      "id": "a6386288",
      "metadata": {
        "id": "a6386288"
      },
      "source": [
        "\n",
        "# MNIST Digit Classification and FGSM Attack\n",
        "\n",
        "The following code will guide you through training a simple Multi-Layer Perceptron (MLP) model using Keras on the MNIST dataset. We will then implement the Fast Gradient Sign Method (FGSM) attack to generate adversarial examples and observe how they affect model performance.\n",
        "\n",
        "## About MNIST Dataset\n",
        "MNIST (Modified National Institute of Standards and Technology) is a dataset of 70,000 grayscale images of handwritten digits (0-9), each of size 28x28 pixels. The dataset is commonly used for training and testing machine learning models for digit recognition. It consists of:\n",
        "- 60,000 training images\n",
        "- 10,000 test images\n",
        "- Labels corresponding to digits from 0 to 9\n"
      ]
    },
    {
      "cell_type": "markdown",
      "id": "34673d1f",
      "metadata": {
        "id": "34673d1f"
      },
      "source": [
        "## Step 1: Importing Required Libraries"
      ]
    },
    {
      "cell_type": "code",
      "execution_count": 1,
      "id": "dededee8",
      "metadata": {
        "id": "dededee8"
      },
      "outputs": [],
      "source": [
        "\n",
        "import tensorflow as tf\n",
        "from tensorflow import keras\n",
        "from tensorflow.keras import layers\n",
        "import numpy as np\n",
        "import matplotlib.pyplot as plt\n"
      ]
    },
    {
      "cell_type": "markdown",
      "id": "cb3c8d25",
      "metadata": {
        "id": "cb3c8d25"
      },
      "source": [
        "## Step 2: Loading and Preprocessing the MNIST Dataset"
      ]
    },
    {
      "cell_type": "code",
      "execution_count": 2,
      "id": "a2e91b15",
      "metadata": {
        "id": "a2e91b15",
        "colab": {
          "base_uri": "https://localhost:8080/"
        },
        "outputId": "285363f0-32dc-457c-ca4f-fd2796f61a57"
      },
      "outputs": [
        {
          "output_type": "stream",
          "name": "stdout",
          "text": [
            "Downloading data from https://storage.googleapis.com/tensorflow/tf-keras-datasets/mnist.npz\n",
            "\u001b[1m11490434/11490434\u001b[0m \u001b[32m━━━━━━━━━━━━━━━━━━━━\u001b[0m\u001b[37m\u001b[0m \u001b[1m0s\u001b[0m 0us/step\n"
          ]
        }
      ],
      "source": [
        "\n",
        "# Load the MNIST dataset from Keras datasets\n",
        "# This returns two tuples:\n",
        "# - (x_train, y_train): Training images and their corresponding labels\n",
        "# - (x_test, y_test): Testing images and their corresponding labels\n",
        "(x_train, y_train), (x_test, y_test) = keras.datasets.mnist.load_data()\n",
        "\n",
        "# Normalize the pixel values to the range [0,1] by dividing by 255\n",
        "# This helps in faster and more stable training of the neural network\n",
        "x_train, x_test = x_train / 255.0, x_test / 255.0\n",
        "\n",
        "# Reshape the images from 28x28 (2D) to a single 784-dimensional vector (1D)\n",
        "# -1 automatically infers the batch size, keeping all images\n",
        "# This transformation is necessary for feeding into a fully connected neural network\n",
        "x_train = x_train.reshape(-1, 28*28)\n",
        "x_test = x_test.reshape(-1, 28*28)\n",
        "\n",
        "# Convert the labels from integer format (0-9) to one-hot encoded format\n",
        "# Example: Label \"3\" → [0, 0, 0, 1, 0, 0, 0, 0, 0, 0]\n",
        "# This is required for categorical classification in neural networks\n",
        "y_train = keras.utils.to_categorical(y_train, 10)\n",
        "y_test = keras.utils.to_categorical(y_test, 10)\n",
        "\n"
      ]
    },
    {
      "cell_type": "markdown",
      "id": "5dc790d2",
      "metadata": {
        "id": "5dc790d2"
      },
      "source": [
        "## Step 3: Building the MLP Model"
      ]
    },
    {
      "cell_type": "code",
      "execution_count": 3,
      "id": "8712fa84",
      "metadata": {
        "id": "8712fa84",
        "colab": {
          "base_uri": "https://localhost:8080/"
        },
        "outputId": "8c3f1e6e-1400-4257-c837-af3f9a35ffa0"
      },
      "outputs": [
        {
          "output_type": "stream",
          "name": "stderr",
          "text": [
            "/usr/local/lib/python3.11/dist-packages/keras/src/layers/core/dense.py:87: UserWarning: Do not pass an `input_shape`/`input_dim` argument to a layer. When using Sequential models, prefer using an `Input(shape)` object as the first layer in the model instead.\n",
            "  super().__init__(activity_regularizer=activity_regularizer, **kwargs)\n"
          ]
        }
      ],
      "source": [
        "\n",
        "# Defining a Multi-Layer Perceptron (MLP) model for MNIST digit classification.\n",
        "# We will use Keras' Sequential API to stack layers in a simple feedforward manner.\n",
        "\n",
        "# The model consists of three layers:\n",
        "# 1. **First Hidden Layer (512 neurons, ReLU activation)**:\n",
        "#    - The input layer expects images of size 28x28, which are flattened into a 784-dimensional vector.\n",
        "#    - This layer has 512 neurons to learn complex features from the digit images.\n",
        "#    - The activation function used is **ReLU (Rectified Linear Unit)**, which helps introduce non-linearity and prevents the vanishing gradient problem.\n",
        "\n",
        "# 2. **Second Hidden Layer (256 neurons, ReLU activation)**:\n",
        "#    - A fully connected layer with 256 neurons.\n",
        "#    - Also uses **ReLU activation** to maintain non-linearity.\n",
        "\n",
        "# 3. **Output Layer (10 neurons, Softmax activation)**:\n",
        "#    - The final layer has **10 neurons**, corresponding to the 10 digit classes (0-9).\n",
        "#    - The **Softmax activation function** is used to output probability distributions over the 10 classes.\n",
        "\n",
        "model = keras.Sequential([\n",
        "    layers.Dense(512, activation='relu', input_shape=(28*28,)),\n",
        "    layers.Dense(256, activation='relu'),\n",
        "    layers.Dense(10, activation='softmax')\n",
        "])\n"
      ]
    },
    {
      "cell_type": "markdown",
      "id": "2e14e4ac",
      "metadata": {
        "id": "2e14e4ac"
      },
      "source": [
        "## Step 4: Compiling and Training the Model"
      ]
    },
    {
      "cell_type": "code",
      "execution_count": 4,
      "id": "e59c17e5",
      "metadata": {
        "id": "e59c17e5",
        "colab": {
          "base_uri": "https://localhost:8080/"
        },
        "outputId": "d1a424b7-2c10-4ba6-cb57-427bce327e48"
      },
      "outputs": [
        {
          "output_type": "stream",
          "name": "stdout",
          "text": [
            "Epoch 1/10\n",
            "\u001b[1m469/469\u001b[0m \u001b[32m━━━━━━━━━━━━━━━━━━━━\u001b[0m\u001b[37m\u001b[0m \u001b[1m12s\u001b[0m 22ms/step - accuracy: 0.8784 - loss: 0.4181 - val_accuracy: 0.9663 - val_loss: 0.1111\n",
            "Epoch 2/10\n",
            "\u001b[1m469/469\u001b[0m \u001b[32m━━━━━━━━━━━━━━━━━━━━\u001b[0m\u001b[37m\u001b[0m \u001b[1m9s\u001b[0m 19ms/step - accuracy: 0.9733 - loss: 0.0871 - val_accuracy: 0.9724 - val_loss: 0.0836\n",
            "Epoch 3/10\n",
            "\u001b[1m469/469\u001b[0m \u001b[32m━━━━━━━━━━━━━━━━━━━━\u001b[0m\u001b[37m\u001b[0m \u001b[1m8s\u001b[0m 14ms/step - accuracy: 0.9824 - loss: 0.0525 - val_accuracy: 0.9763 - val_loss: 0.0794\n",
            "Epoch 4/10\n",
            "\u001b[1m469/469\u001b[0m \u001b[32m━━━━━━━━━━━━━━━━━━━━\u001b[0m\u001b[37m\u001b[0m \u001b[1m10s\u001b[0m 14ms/step - accuracy: 0.9878 - loss: 0.0357 - val_accuracy: 0.9780 - val_loss: 0.0707\n",
            "Epoch 5/10\n",
            "\u001b[1m469/469\u001b[0m \u001b[32m━━━━━━━━━━━━━━━━━━━━\u001b[0m\u001b[37m\u001b[0m \u001b[1m8s\u001b[0m 17ms/step - accuracy: 0.9921 - loss: 0.0242 - val_accuracy: 0.9814 - val_loss: 0.0672\n",
            "Epoch 6/10\n",
            "\u001b[1m469/469\u001b[0m \u001b[32m━━━━━━━━━━━━━━━━━━━━\u001b[0m\u001b[37m\u001b[0m \u001b[1m7s\u001b[0m 14ms/step - accuracy: 0.9931 - loss: 0.0194 - val_accuracy: 0.9802 - val_loss: 0.0695\n",
            "Epoch 7/10\n",
            "\u001b[1m469/469\u001b[0m \u001b[32m━━━━━━━━━━━━━━━━━━━━\u001b[0m\u001b[37m\u001b[0m \u001b[1m8s\u001b[0m 17ms/step - accuracy: 0.9948 - loss: 0.0161 - val_accuracy: 0.9763 - val_loss: 0.0875\n",
            "Epoch 8/10\n",
            "\u001b[1m469/469\u001b[0m \u001b[32m━━━━━━━━━━━━━━━━━━━━\u001b[0m\u001b[37m\u001b[0m \u001b[1m7s\u001b[0m 16ms/step - accuracy: 0.9948 - loss: 0.0170 - val_accuracy: 0.9805 - val_loss: 0.0721\n",
            "Epoch 9/10\n",
            "\u001b[1m469/469\u001b[0m \u001b[32m━━━━━━━━━━━━━━━━━━━━\u001b[0m\u001b[37m\u001b[0m \u001b[1m10s\u001b[0m 14ms/step - accuracy: 0.9957 - loss: 0.0121 - val_accuracy: 0.9809 - val_loss: 0.0759\n",
            "Epoch 10/10\n",
            "\u001b[1m469/469\u001b[0m \u001b[32m━━━━━━━━━━━━━━━━━━━━\u001b[0m\u001b[37m\u001b[0m \u001b[1m10s\u001b[0m 14ms/step - accuracy: 0.9970 - loss: 0.0089 - val_accuracy: 0.9806 - val_loss: 0.0868\n"
          ]
        },
        {
          "output_type": "execute_result",
          "data": {
            "text/plain": [
              "<keras.src.callbacks.history.History at 0x7aec72f69610>"
            ]
          },
          "metadata": {},
          "execution_count": 4
        }
      ],
      "source": [
        "# Compiling the model:\n",
        "# - Optimizer: 'adam' (adaptive learning rate for efficient training)\n",
        "# - Loss: 'categorical_crossentropy' (suitable for multi-class classification)\n",
        "# - Metric: 'accuracy' (measures correct predictions)\n",
        "\n",
        "# Training the model:\n",
        "# - Epochs: 10 (number of times the model sees the dataset)\n",
        "# - Batch size: 128 (updates weights after every 128 samples)\n",
        "# - Validation data: (x_test, y_test) (evaluates model performance on unseen data)\n",
        "\n",
        "model.compile(optimizer='adam', loss='categorical_crossentropy', metrics=['accuracy'])\n",
        "model.fit(x_train, y_train, epochs=10, batch_size=128, validation_data=(x_test, y_test))\n"
      ]
    },
    {
      "cell_type": "markdown",
      "id": "1956abd9",
      "metadata": {
        "id": "1956abd9"
      },
      "source": [
        "## Step 5: Evaluating Model Performance"
      ]
    },
    {
      "cell_type": "code",
      "execution_count": 5,
      "id": "04c61237",
      "metadata": {
        "id": "04c61237",
        "colab": {
          "base_uri": "https://localhost:8080/"
        },
        "outputId": "2c1f19c2-aad2-4dfd-e57c-5afda452ee44"
      },
      "outputs": [
        {
          "output_type": "stream",
          "name": "stdout",
          "text": [
            "\u001b[1m313/313\u001b[0m \u001b[32m━━━━━━━━━━━━━━━━━━━━\u001b[0m\u001b[37m\u001b[0m \u001b[1m1s\u001b[0m 3ms/step - accuracy: 0.9774 - loss: 0.0971\n",
            "Test Accuracy: 0.9806\n"
          ]
        }
      ],
      "source": [
        "loss, accuracy = model.evaluate(x_test, y_test) # Evaluate the model on the test data\n",
        "\n",
        "print(f\"Test Accuracy: {accuracy:.4f}\")  # Print the accuracy value with 4 decimal places\n",
        "\n"
      ]
    },
    {
      "cell_type": "markdown",
      "id": "922e9f48",
      "metadata": {
        "id": "922e9f48"
      },
      "source": [
        "## Step 6: Implementing the FGSM Attack\n",
        "We will use Fast Gradient Sign Method (FGSM) to create adversarial examples.\n"
      ]
    },
    {
      "cell_type": "code",
      "execution_count": 6,
      "id": "e0be0547",
      "metadata": {
        "id": "e0be0547"
      },
      "outputs": [],
      "source": [
        "# The function fgsm_attack generates adversarial examples using the Fast Gradient Sign Method (FGSM).\n",
        "# The FGSM method perturbs the input image in the direction of the gradient of the loss with respect to the image,\n",
        "# scaled by a small value called epsilon. This creates an adversarial example that can deceive the model.\n",
        "\n",
        "# Parameters:\n",
        "# - image: The original input image that we want to perturb.\n",
        "# - epsilon: A small scalar that controls the magnitude of the perturbation. A larger epsilon means a stronger perturbation.\n",
        "# - gradient: The gradient of the loss with respect to the image. This is typically computed during backpropagation.\n",
        "\n",
        "# The function performs the following:\n",
        "# 1. Calculates the perturbation using the sign of the gradient, scaled by epsilon.\n",
        "# 2. Adds this perturbation to the original image to generate the adversarial image.\n",
        "# 3. Clips the resulting image to ensure the pixel values stay within the valid range [0, 1].\n",
        "# 4. Returns the adversarial image and the perturbation used\n",
        "\n",
        "def fgsm_attack(image, epsilon, gradient):\n",
        "    perturbation = epsilon * np.sign(gradient)\n",
        "    adversarial_image = image + perturbation\n",
        "    adversarial_image = np.clip(adversarial_image, 0, 1)\n",
        "    return adversarial_image, perturbation\n"
      ]
    },
    {
      "cell_type": "markdown",
      "id": "66d1d0e9",
      "metadata": {
        "id": "66d1d0e9"
      },
      "source": [
        "## Step 7: Generating Adversarial Examples\n"
      ]
    },
    {
      "cell_type": "code",
      "execution_count": 7,
      "id": "fc848cfb",
      "metadata": {
        "id": "fc848cfb"
      },
      "outputs": [],
      "source": [
        "\n",
        "# This function creates adversarial examples using the Fast Gradient Sign Method (FGSM).\n",
        "# It calculates the gradient of the loss with respect to the input image and generates an adversarial version of the image\n",
        "# by applying a perturbation. The goal is to fool the model by slightly altering the input image in a way that misleads\n",
        "# the model into making incorrect predictions.\n",
        "\n",
        "# Parameters:\n",
        "# - model: The trained neural network model to evaluate on the adversarial examples.\n",
        "# - images: The original input images that will be perturbed to create adversarial examples.\n",
        "# - labels: The true labels corresponding to the images.\n",
        "# - epsilon: A small scalar that controls the strength of the perturbation (default is 0.1).\n",
        "\n",
        "# The function does the following:\n",
        "# 1. Converts the input images to a tensor, as TensorFlow models require tensor inputs.\n",
        "# 2. Uses a GradientTape to track operations on the image tensor and compute the loss.\n",
        "# 3. Computes the gradients of the loss with respect to the input images.\n",
        "# 4. Uses the fgsm_attack function to create adversarial examples by perturbing the input images based on the computed gradients.\n",
        "# 5. Returns the adversarial examples and the perturbations applied.\n",
        "\n",
        "import tensorflow as tf\n",
        "\n",
        "loss_object = tf.keras.losses.CategoricalCrossentropy()\n",
        "\n",
        "def create_adversarial_examples(model, images, labels, epsilon=0.1):\n",
        "    # Convert the images to a tensor for TensorFlow model compatibility\n",
        "    images_tensor = tf.convert_to_tensor(images)\n",
        "\n",
        "    # Track the gradients of the loss with respect to the input images\n",
        "    with tf.GradientTape() as tape:\n",
        "        tape.watch(images_tensor)  # Ensure the tape tracks the images tensor\n",
        "        predictions = model(images_tensor)  # Get the model's predictions for the images\n",
        "        loss = loss_object(labels, predictions)  # Compute the loss based on the true labels and model predictions\n",
        "\n",
        "    # Compute the gradients of the loss with respect to the input images\n",
        "    gradients = tape.gradient(loss, images_tensor)\n",
        "\n",
        "    # Generate adversarial examples by applying the perturbation based on the gradients\n",
        "    adversarial_examples, perturbations = fgsm_attack(images, epsilon, gradients.numpy())\n",
        "\n",
        "    # Return the adversarial examples and the perturbations\n",
        "    return adversarial_examples, perturbations\n"
      ]
    },
    {
      "cell_type": "markdown",
      "id": "3a0d9717",
      "metadata": {
        "id": "3a0d9717"
      },
      "source": [
        "## Step 8: Selecting Sample Images and Creating Adversarial Examples"
      ]
    },
    {
      "cell_type": "code",
      "execution_count": 8,
      "id": "59a2cd88",
      "metadata": {
        "id": "59a2cd88"
      },
      "outputs": [],
      "source": [
        "\n",
        "num_samples = 10  # Number of samples to select\n",
        "x_sample = x_test[:num_samples]  # Select first 10 test images\n",
        "y_sample = y_test[:num_samples]  # Select corresponding labels\n",
        "\n",
        "x_adversarial, noise = create_adversarial_examples(model, x_sample, y_sample, epsilon=0.2)  # Generate adversarial examples\n",
        "\n"
      ]
    },
    {
      "cell_type": "markdown",
      "id": "c5a5d4ef",
      "metadata": {
        "id": "c5a5d4ef"
      },
      "source": [
        "## Step 9: Making Predictions on Adversarial Examples"
      ]
    },
    {
      "cell_type": "code",
      "execution_count": 9,
      "id": "a232db3c",
      "metadata": {
        "id": "a232db3c",
        "colab": {
          "base_uri": "https://localhost:8080/"
        },
        "outputId": "14211d41-e5f8-4705-b0d2-c5889ba901e2"
      },
      "outputs": [
        {
          "output_type": "stream",
          "name": "stdout",
          "text": [
            "\u001b[1m1/1\u001b[0m \u001b[32m━━━━━━━━━━━━━━━━━━━━\u001b[0m\u001b[37m\u001b[0m \u001b[1m0s\u001b[0m 71ms/step\n",
            "\u001b[1m1/1\u001b[0m \u001b[32m━━━━━━━━━━━━━━━━━━━━\u001b[0m\u001b[37m\u001b[0m \u001b[1m0s\u001b[0m 41ms/step - accuracy: 0.0000e+00 - loss: 18.2414\n",
            "Test Accuracy after FGSM attack: 0.0000\n"
          ]
        }
      ],
      "source": [
        "\n",
        "predictions = np.argmax(model.predict(x_adversarial), axis=1)  # Get model predictions for adversarial examples\n",
        "true_labels = np.argmax(y_sample, axis=1)  # Convert one-hot encoded labels to class indices\n",
        "\n",
        "loss_adv, accuracy_adv = model.evaluate(x_adversarial, y_sample)  # Evaluate model on adversarial examples\n",
        "print(f\"Test Accuracy after FGSM attack: {accuracy_adv:.4f}\")  # Print accuracy after adversarial attack\n"
      ]
    },
    {
      "cell_type": "markdown",
      "id": "7f5a7e22",
      "metadata": {
        "id": "7f5a7e22"
      },
      "source": [
        "## Step 10: Visualizing Original, Noise, and Adversarial Images Side by Side"
      ]
    },
    {
      "cell_type": "code",
      "execution_count": 10,
      "id": "e2b356bb",
      "metadata": {
        "id": "e2b356bb",
        "colab": {
          "base_uri": "https://localhost:8080/",
          "height": 354
        },
        "outputId": "b3346001-c81e-4c43-844e-498a937d2df1"
      },
      "outputs": [
        {
          "output_type": "display_data",
          "data": {
            "text/plain": [
              "<Figure size 1500x500 with 30 Axes>"
            ],
            "image/png": "[encoded data removed]"
          },
          "metadata": {}
        }
      ],
      "source": [
        "# Create a 3x10 grid of subplots to display images\n",
        "# Loop through each sample to display the original image, noise, and adversarial image\n",
        "\n",
        "fig, axes = plt.subplots(3, 10, figsize=(15, 5))\n",
        "\n",
        "for i in range(10):\n",
        "    # Original image\n",
        "    axes[0, i].imshow(x_sample[i].reshape(28, 28), cmap='gray')\n",
        "    axes[0, i].axis('off')\n",
        "    axes[0, i].set_title(f\"Orig: {true_labels[i]}\")\n",
        "\n",
        "    # Noise\n",
        "    axes[1, i].imshow(noise[i].reshape(28, 28), cmap='gray')\n",
        "    axes[1, i].axis('off')\n",
        "    axes[1, i].set_title(\"Noise\")\n",
        "\n",
        "    # Adversarial image\n",
        "    axes[2, i].imshow(x_adversarial[i].reshape(28, 28), cmap='gray')\n",
        "    axes[2, i].axis('off')\n",
        "    axes[2, i].set_title(f\"Adv: {predictions[i]}\")\n",
        "\n",
        "plt.show()\n"
      ]
    },
    {
      "cell_type": "markdown",
      "id": "355c3383",
      "metadata": {
        "id": "355c3383"
      },
      "source": [
        "## Step 11: Identifying Incorrect Predictions"
      ]
    },
    {
      "cell_type": "code",
      "execution_count": 11,
      "id": "25f6ffae",
      "metadata": {
        "colab": {
          "base_uri": "https://localhost:8080/"
        },
        "id": "25f6ffae",
        "outputId": "35e92de6-66c9-47b4-a9f8-11fc57c7e585"
      },
      "outputs": [
        {
          "output_type": "stream",
          "name": "stdout",
          "text": [
            "Incorrectly classified samples after FGSM attack:\n",
            "True Label: 7, Predicted: 2\n",
            "True Label: 2, Predicted: 3\n",
            "True Label: 1, Predicted: 8\n",
            "True Label: 0, Predicted: 4\n",
            "True Label: 4, Predicted: 9\n",
            "True Label: 1, Predicted: 7\n",
            "True Label: 4, Predicted: 8\n",
            "True Label: 9, Predicted: 3\n",
            "True Label: 5, Predicted: 8\n",
            "True Label: 9, Predicted: 4\n"
          ]
        }
      ],
      "source": [
        "\n",
        "# Find the indices of incorrectly classified samples after the FGSM attack\n",
        "# Print the true and predicted labels for incorrectly classified samples\n",
        "\n",
        "incorrect_indices = np.where(predictions != true_labels)[0]  # Get indices of misclassified samples\n",
        "print(\"Incorrectly classified samples after FGSM attack:\")  # Print message for misclassified samples\n",
        "\n",
        "# Loop through each misclassified sample and print its true and predicted labels\n",
        "for idx in incorrect_indices:\n",
        "    print(f\"True Label: {true_labels[idx]}, Predicted: {predictions[idx]}\")  # Display true vs predicted labels\n"
      ]
    },
    {
      "cell_type": "markdown",
      "source": [
        "Based on the above code, perform the following:\n",
        "\n",
        "**Adversarial Example Generation**\n",
        "1. Use the create_adversarial_examples function to generate adversarial examples\n",
        "for the given dataset (x_test, y_test). You will need to experiment with various values of epsilon (e.g., 0.1, 0.2, 0.3, 0.5, 1.0).\n",
        "\n",
        "2. For each epsilon value, generate adversarial examples for a subset of x_test (you can choose 10 samples).\n",
        "\n",
        "3. For each epsilon, store the adversarial examples and perturbations (noise).\n",
        "\n",
        "**Model Evaluatation**\n",
        "1. Evaluate the model on the generated adversarial examples for each epsilon value.\n",
        "\n",
        "2. For each evaluation, compute the loss and accuracy.\n",
        "\n",
        "3. Print the accuracy of the model on adversarial examples for each epsilon value.\n",
        "\n",
        "4. Record how the accuracy decreases as epsilon increases (i.e., the strength of the perturbation).\n",
        "\n",
        "**Visualization**:\n",
        "\n",
        "For each epsilon value, plot the following:\n",
        "1. The original images from the selected test samples.\n",
        "\n",
        "2. The perturbation (noise) applied to each image to generate the adversarial examples.\n",
        "\n",
        "3. The adversarial examples themselves.\n",
        "\n",
        "Label the images accordingly (e.g., Original, Noise, and Adversarial).\n",
        "\n",
        "\n",
        "# Important: Put the following graph in your Lab-Logbook\n",
        "**Graphing the Results:**\n",
        "\n",
        "\n",
        "1. Plot a graph showing the model's accuracy for each epsilon value. The x-axis should represent the epsilon values, and the y-axis should represent the accuracy of the model on the adversarial examples.\n",
        "\n",
        "2. Discuss how the accuracy changes as the strength of the adversarial perturbation increases. What does this tell you about the model's robustness to adversarial attacks?"
      ],
      "metadata": {
        "id": "VMFc8eNpcLTZ"
      },
      "id": "VMFc8eNpcLTZ"
    },
    {
      "cell_type": "code",
      "source": [
        "#\n",
        "#\n",
        "#\n",
        "# Your code to perform the above task.\n",
        "# You can split your code into multiple cells.\n",
        "#\n",
        "#\n",
        "#\n",
        "import matplotlib.pyplot as plt\n",
        "import numpy as np\n",
        "\n",
        "epsilons = [0, 0.1, 0.2, 0.3, 0.5, 1.0]\n",
        "accuracies = []\n",
        "num_samples = 1000\n",
        "\n",
        "for epsilon in epsilons:\n",
        "    x_adversarial, _ = create_adversarial_examples(model, x_test[:num_samples], y_test[:num_samples], epsilon=epsilon)\n",
        "    _, accuracy = model.evaluate(x_adversarial, y_test[:num_samples], verbose=0)\n",
        "\n",
        "    accuracies.append(accuracy)\n",
        "\n",
        "plt.plot(epsilons, accuracies, marker='o')\n",
        "plt.title('Model Accuracy vs. Epsilon (FGSM Attack)')\n",
        "plt.xlabel('Epsilon')\n",
        "plt.ylabel('Accuracy')\n",
        "plt.grid(True)\n",
        "plt.show()"
      ],
      "metadata": {
        "id": "xHxNSjhNipwe",
        "colab": {
          "base_uri": "https://localhost:8080/",
          "height": 472
        },
        "outputId": "3d49b0db-5010-4f62-ac2e-b60d42e3a03c"
      },
      "id": "xHxNSjhNipwe",
      "execution_count": 12,
      "outputs": [
        {
          "output_type": "display_data",
          "data": {
            "text/plain": [
              "<Figure size 640x480 with 1 Axes>"
            ],
            "image/png": "[encoded data removed]"
          },
          "metadata": {}
        }
      ]
    },
    {
      "cell_type": "markdown",
      "source": [
        "**Answer To:** *Discuss how the accuracy changes as the strength of the adversarial perturbation increases. What does this tell you about the model's robustness to adversarial attacks?*"
      ],
      "metadata": {
        "id": "9y_kksdWwsSg"
      },
      "id": "9y_kksdWwsSg"
    },
    {
      "cell_type": "markdown",
      "source": [
        "In the next assignment, you will perform training data poisoning. Remember, x_train and y_train contain the training data. Your task is to poison the training data in a way that impacts the model's performance.\n",
        "\n",
        "You will alter the labels in y_train by assigning incorrect labels to affect the model's accuracy. For example, you can set all values in y_train to a single label, chosen from 1 to 10. Alternatively, you can flip labels, such as setting label 2 to 1, and label 3 to 2, to degrade the model’s performance.\n",
        "\n",
        "Feel free to perform any label manipulation of your choice in the training data, and observe the impact on the model’s accuracy.\n",
        "\n",
        "# Important: In your lab logbook, provide the following:\n",
        "\n",
        "The model accuracy before data poisoning.\n",
        "The model accuracy after data poisoning."
      ],
      "metadata": {
        "id": "2VeROyBBexUs"
      },
      "id": "2VeROyBBexUs"
    },
    {
      "cell_type": "code",
      "source": [
        "#\n",
        "#\n",
        "# Perform Data poisoning on the train data, and then train and test your model\n",
        "# You can split your code into multiple cells\n",
        "# Hint: y_train[:] = 1  # Set all labels to 1\n",
        "#\n",
        "#\n",
        "#"
      ],
      "metadata": {
        "id": "eWPVkN9Iir5v"
      },
      "id": "eWPVkN9Iir5v",
      "execution_count": 13,
      "outputs": []
    },
    {
      "cell_type": "code",
      "source": [
        "y_train[:] = 1"
      ],
      "metadata": {
        "id": "eeKT5jD0e2Y8"
      },
      "id": "eeKT5jD0e2Y8",
      "execution_count": 14,
      "outputs": []
    },
    {
      "cell_type": "code",
      "source": [
        "import numpy as np\n",
        "import random\n",
        "\n",
        "# Copy the original labels\n",
        "y_train_poisoned = y_train.copy()\n",
        "\n",
        "# Example 1: Assign all labels to 0 (severe poisoning)\n",
        "y_train_poisoned[:] = 0\n",
        "\n",
        "# Example 2: Randomly shuffle labels (moderate poisoning)\n",
        "num_classes = y_train.shape[1]  # Number of classes (10 for MNIST)\n",
        "for i in range(len(y_train_poisoned)):\n",
        "    random_label = random.randint(0, num_classes - 1)\n",
        "    y_train_poisoned[i] = np.zeros(num_classes)  # Reset the label\n",
        "    y_train_poisoned[i][random_label] = 1  # Assign a new random label\n",
        "\n",
        "# Example 3: Swap labels systematically (mild poisoning)\n",
        "for i in range(len(y_train_poisoned)):\n",
        "    current_label = np.argmax(y_train_poisoned[i])\n",
        "    new_label = (current_label + 1) % num_classes  # Shift label by 1\n",
        "    y_train_poisoned[i] = np.zeros(num_classes)\n",
        "    y_train_poisoned[i][new_label] = 1\n",
        "\n",
        "# Re-train the model on poisoned data\n",
        "model.fit(x_train, y_train_poisoned, epochs=10, batch_size=128, validation_data=(x_test, y_test))\n",
        "\n",
        "# Evaluate poisoned model\n",
        "loss_poisoned, accuracy_poisoned = model.evaluate(x_test, y_test)\n",
        "print(f\"Test Accuracy after Data Poisoning: {accuracy_poisoned:.4f}\")\n"
      ],
      "metadata": {
        "colab": {
          "base_uri": "https://localhost:8080/"
        },
        "id": "HENc8QHST72_",
        "outputId": "8bd32a3b-707e-4a0c-8a1b-7fec71a6d257"
      },
      "id": "HENc8QHST72_",
      "execution_count": 17,
      "outputs": [
        {
          "output_type": "stream",
          "name": "stdout",
          "text": [
            "Epoch 1/10\n",
            "\u001b[1m469/469\u001b[0m \u001b[32m━━━━━━━━━━━━━━━━━━━━\u001b[0m\u001b[37m\u001b[0m \u001b[1m8s\u001b[0m 17ms/step - accuracy: 0.0996 - loss: 2.9959 - val_accuracy: 0.0966 - val_loss: 2.3042\n",
            "Epoch 2/10\n",
            "\u001b[1m469/469\u001b[0m \u001b[32m━━━━━━━━━━━━━━━━━━━━\u001b[0m\u001b[37m\u001b[0m \u001b[1m10s\u001b[0m 21ms/step - accuracy: 0.0993 - loss: 2.3026 - val_accuracy: 0.0988 - val_loss: 2.3038\n",
            "Epoch 3/10\n",
            "\u001b[1m469/469\u001b[0m \u001b[32m━━━━━━━━━━━━━━━━━━━━\u001b[0m\u001b[37m\u001b[0m \u001b[1m7s\u001b[0m 15ms/step - accuracy: 0.1008 - loss: 2.3026 - val_accuracy: 0.0975 - val_loss: 2.3031\n",
            "Epoch 4/10\n",
            "\u001b[1m469/469\u001b[0m \u001b[32m━━━━━━━━━━━━━━━━━━━━\u001b[0m\u001b[37m\u001b[0m \u001b[1m8s\u001b[0m 16ms/step - accuracy: 0.1036 - loss: 2.3023 - val_accuracy: 0.0588 - val_loss: 2.3061\n",
            "Epoch 5/10\n",
            "\u001b[1m469/469\u001b[0m \u001b[32m━━━━━━━━━━━━━━━━━━━━\u001b[0m\u001b[37m\u001b[0m \u001b[1m10s\u001b[0m 16ms/step - accuracy: 0.1023 - loss: 2.3020 - val_accuracy: 0.1309 - val_loss: 2.3096\n",
            "Epoch 6/10\n",
            "\u001b[1m469/469\u001b[0m \u001b[32m━━━━━━━━━━━━━━━━━━━━\u001b[0m\u001b[37m\u001b[0m \u001b[1m7s\u001b[0m 14ms/step - accuracy: 0.1037 - loss: 2.3020 - val_accuracy: 0.0967 - val_loss: 2.3050\n",
            "Epoch 7/10\n",
            "\u001b[1m469/469\u001b[0m \u001b[32m━━━━━━━━━━━━━━━━━━━━\u001b[0m\u001b[37m\u001b[0m \u001b[1m8s\u001b[0m 17ms/step - accuracy: 0.1047 - loss: 2.3017 - val_accuracy: 0.0993 - val_loss: 2.3059\n",
            "Epoch 8/10\n",
            "\u001b[1m469/469\u001b[0m \u001b[32m━━━━━━━━━━━━━━━━━━━━\u001b[0m\u001b[37m\u001b[0m \u001b[1m7s\u001b[0m 14ms/step - accuracy: 0.1056 - loss: 2.3009 - val_accuracy: 0.1007 - val_loss: 2.3066\n",
            "Epoch 9/10\n",
            "\u001b[1m469/469\u001b[0m \u001b[32m━━━━━━━━━━━━━━━━━━━━\u001b[0m\u001b[37m\u001b[0m \u001b[1m10s\u001b[0m 14ms/step - accuracy: 0.1078 - loss: 2.2995 - val_accuracy: 0.1031 - val_loss: 2.3210\n",
            "Epoch 10/10\n",
            "\u001b[1m469/469\u001b[0m \u001b[32m━━━━━━━━━━━━━━━━━━━━\u001b[0m\u001b[37m\u001b[0m \u001b[1m8s\u001b[0m 16ms/step - accuracy: 0.1071 - loss: 2.2985 - val_accuracy: 0.1011 - val_loss: 2.3111\n",
            "\u001b[1m313/313\u001b[0m \u001b[32m━━━━━━━━━━━━━━━━━━━━\u001b[0m\u001b[37m\u001b[0m \u001b[1m1s\u001b[0m 3ms/step - accuracy: 0.0950 - loss: 2.3128\n",
            "Test Accuracy after Data Poisoning: 0.1011\n"
          ]
        }
      ]
    },
    {
      "cell_type": "markdown",
      "source": [
        "**Optional Part**\n",
        "\n",
        "In this task, similar to the FGSM attack, you will implement a PGD (Projected Gradient Descent) attack on the AI model. The PGD attack is an iterative adversarial attack that refines the adversarial perturbation step-by-step to create stronger adversarial examples.\n",
        "\n",
        "You can use the following libraries to implement the PGD attack. Make sure to experiment with different values of the attack parameters (e.g., number of iterations, step size, and epsilon) to observe how the attack affects the model’s performance.\n",
        "\n",
        "\n",
        "\n",
        "https://github.com/Trusted-AI/adversarial-robustness-toolbox"
      ],
      "metadata": {
        "id": "kTEPdk5Mjdru"
      },
      "id": "kTEPdk5Mjdru"
    }
  ],
  "metadata": {
    "colab": {
      "provenance": []
    },
    "language_info": {
      "name": "python"
    },
    "kernelspec": {
      "name": "python3",
      "display_name": "Python 3"
    }
  },
  "nbformat": 4,
  "nbformat_minor": 5
}